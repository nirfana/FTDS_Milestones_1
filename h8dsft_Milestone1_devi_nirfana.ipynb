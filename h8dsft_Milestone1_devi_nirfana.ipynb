{
 "cells": [
  {
   "cell_type": "markdown",
   "metadata": {},
   "source": [
    "======================================\n",
    "# Milestones 1 - Customer Churn Analysis\n",
    "\n",
    "Nama : Devi Nirfana Hermawan <br>\n",
    "Batch : HCK 016 \n",
    "\n",
    "Data Source : [Kaggle.com](<https://www.kaggle.com/datasets/radheshyamkollipara/bank-customer-churn>)  <br>\n",
    "Tableau Dashboaard : [Dashboard](<https://public.tableau.com/views/CustomerChurnAnalysis_17152608950240/CountofcomplainperSatisfactionScore?:language=en-GB&publish=yes&:sid=&:display_count=n&:origin=viz_share_link>)\n",
    "\n",
    "\n",
    "This is a milestone project to simulate a data analyst task in real world, all the name and data inside this notebook is just a fictional scenario.\n",
    "\n",
    "======================================"
   ]
  },
  {
   "cell_type": "markdown",
   "metadata": {},
   "source": [
    "# A. Introduction\n",
    "\n",
    "DigiBank, a leading private digital bank, has been experiencing a worrying trend: a steady rise in customer churn. The marketing department is feeling the heat, with the Marketing Manager increasingly concerned about the impact on revenue and brand reputation. As a data analyst at DigiBank, I have been tasked with leading a customer churn analysis project. The marketing department needs a clear understanding of why customers are leaving DigiBank. They want actionable insights that can be used to develop targeted retention strategies."
   ]
  },
  {
   "cell_type": "markdown",
   "metadata": {},
   "source": [
    "# B. Business Understanding & Problem Statement\n",
    "\n",
    "**Using SMART Framework** <br>\n",
    "**`Spesific`** : <br>\n",
    "The objective of reducing customer churn and improving retention rates within the digital bank's customer base. <br>\n",
    "\n",
    "**`Measurable`** : <br>\n",
    "Aim to achieve a 5% reduction in churn rate every quarter, with a cumulative decrease of 20% by the end of the year.\n",
    "\n",
    "**`Achieveble`** : <br>\n",
    "Diversify strategies beyond loyalty programs, including enhancing product offerings and personalized offers. Prioritize customer satisfaction and long-term relationships to drive revenue growth and reduce acquisition costs.\n",
    "\n",
    "**`Relevant`** : <br>\n",
    "Decreasing customer churn can lead into higher revenue and reducing cost for getting new customer.\n",
    "\n",
    "**`Time-bound`** : <br>\n",
    "Launch the loyalty program within the next three months, conduct monthly evaluations, and review overall progress every quarter.\n",
    "\n",
    "\n",
    "**Problem Statement**: <br>\n",
    "achieve a 5% reduction in churn rate each quarter, culminating in a cumulative decrease of 20% by the year's end. Not only relevant for fostering long-term customer satisfaction and loyalty but also crucial for driving revenue growth and curbing acquisition costs. "
   ]
  },
  {
   "cell_type": "markdown",
   "metadata": {},
   "source": [
    "# C. Problem Breakdown \n",
    "\n",
    "This questions below are going to be answered during the analysis.\n",
    "1. What is the average age of customers? Average age of exited and not exited? \n",
    "2. What's the percentage of churn by gender?\n",
    "3. Are actively engaged customers more likely to have credit cards?\n",
    "4. What is the percentage of customers who have a credit card and are also active members of the bank?\n",
    "5. What is the breakdown of credit card types for customers who have filed a complain?\n",
    "6. Are customers who filed complains more likely to exit the bank?\n",
    "7. Does customer satisfaction score correlate with the likelihood of filing a complain?\n",
    "8. Does Salary correlate with number of product own by customer?\n",
    "\n"
   ]
  },
  {
   "cell_type": "markdown",
   "metadata": {},
   "source": [
    "# D. Data loading "
   ]
  },
  {
   "cell_type": "code",
   "execution_count": null,
   "metadata": {
    "ExecuteTime": {
     "end_time": "2024-05-08T15:02:01.034744Z",
     "start_time": "2024-05-08T15:02:01.027250Z"
    }
   },
   "outputs": [],
   "source": [
    "# import library \n",
    "import pandas as pd \n",
    "from scipy import stats\n",
    "import matplotlib.pyplot as plt\n",
    "import seaborn as sns "
   ]
  },
  {
   "cell_type": "code",
   "execution_count": null,
   "metadata": {
    "ExecuteTime": {
     "end_time": "2024-05-08T15:02:01.810967Z",
     "start_time": "2024-05-08T15:02:01.696646Z"
    }
   },
   "outputs": [
    {
     "name": "stdout",
     "output_type": "stream",
     "text": [
      "<class 'pandas.core.frame.DataFrame'>\n",
      "RangeIndex: 10000 entries, 0 to 9999\n",
      "Data columns (total 18 columns):\n",
      " #   Column              Non-Null Count  Dtype  \n",
      "---  ------              --------------  -----  \n",
      " 0   RowNumber           10000 non-null  int64  \n",
      " 1   CustomerId          10000 non-null  int64  \n",
      " 2   Surname             10000 non-null  object \n",
      " 3   CreditScore         10000 non-null  int64  \n",
      " 4   Geography           10000 non-null  object \n",
      " 5   Gender              10000 non-null  object \n",
      " 6   Age                 10000 non-null  int64  \n",
      " 7   Tenure              10000 non-null  int64  \n",
      " 8   Balance             10000 non-null  float64\n",
      " 9   NumOfProducts       10000 non-null  int64  \n",
      " 10  HasCrCard           10000 non-null  int64  \n",
      " 11  IsActiveMember      10000 non-null  int64  \n",
      " 12  EstimatedSalary     10000 non-null  float64\n",
      " 13  Exited              10000 non-null  int64  \n",
      " 14  Complain            10000 non-null  int64  \n",
      " 15  Satisfaction Score  10000 non-null  int64  \n",
      " 16  Card Type           10000 non-null  object \n",
      " 17  Point Earned        10000 non-null  int64  \n",
      "dtypes: float64(2), int64(12), object(4)\n",
      "memory usage: 1.4+ MB\n"
     ]
    }
   ],
   "source": [
    "df = pd.read_csv('Customer-Churn-Records.csv')\n",
    "df.info()"
   ]
  },
  {
   "cell_type": "markdown",
   "metadata": {},
   "source": [
    "**Table Description** <br>\n",
    "\n",
    "| Column Name | Description |\n",
    "| --- | --- |\n",
    "| `RowNumber` | Corresponds to record number, not shown in output |\n",
    "| `CustomerId` | Random customer identifier |\n",
    "| `Surname` | Customer's last name |\n",
    "| `CreditScore` | Customer's credit score |\n",
    "| `Geography` | Customer's location |\n",
    "| `Gender` | Customer's gender | Potentially |\n",
    "| `Age` | Customer's age |\n",
    "| `Tenure` | Years as a bank client |\n",
    "| `Balance` | Account balance |\n",
    "| `NumOfProducts` | Number of bank products purchased |\n",
    "| `HasCrCard` | Has credit card (Yes/No) |\n",
    "| `IsActiveMember` | Actively uses bank services (Yes/No) |\n",
    "| `EstimatedSalary` | Estimated customer salary |\n",
    "| `Exited` | Left the bank (Yes/No) |\n",
    "| `Complain` | Filed a complain (Yes/No) |\n",
    "| `Satisfaction Score` | Score for complain resolution |\n",
    "| `Card Type` | Type of credit card (if applicable) |\n",
    "| `Points Earned` | Credit card points earned |"
   ]
  },
  {
   "cell_type": "markdown",
   "metadata": {},
   "source": [
    "# E. Data preparation"
   ]
  },
  {
   "cell_type": "code",
   "execution_count": null,
   "metadata": {
    "ExecuteTime": {
     "end_time": "2024-05-08T15:02:01.895425Z",
     "start_time": "2024-05-08T15:02:01.862545Z"
    }
   },
   "outputs": [
    {
     "data": {
      "text/html": [
       "<div>\n",
       "<style scoped>\n",
       "    .dataframe tbody tr th:only-of-type {\n",
       "        vertical-align: middle;\n",
       "    }\n",
       "\n",
       "    .dataframe tbody tr th {\n",
       "        vertical-align: top;\n",
       "    }\n",
       "\n",
       "    .dataframe thead th {\n",
       "        text-align: right;\n",
       "    }\n",
       "</style>\n",
       "<table border=\"1\" class=\"dataframe\">\n",
       "  <thead>\n",
       "    <tr style=\"text-align: right;\">\n",
       "      <th></th>\n",
       "      <th>RowNumber</th>\n",
       "      <th>CustomerId</th>\n",
       "      <th>Surname</th>\n",
       "      <th>CreditScore</th>\n",
       "      <th>Geography</th>\n",
       "      <th>Gender</th>\n",
       "      <th>Age</th>\n",
       "      <th>Tenure</th>\n",
       "      <th>Balance</th>\n",
       "      <th>NumOfProducts</th>\n",
       "      <th>HasCrCard</th>\n",
       "      <th>IsActiveMember</th>\n",
       "      <th>EstimatedSalary</th>\n",
       "      <th>Exited</th>\n",
       "      <th>Complain</th>\n",
       "      <th>Satisfaction Score</th>\n",
       "      <th>Card Type</th>\n",
       "      <th>Point Earned</th>\n",
       "    </tr>\n",
       "  </thead>\n",
       "  <tbody>\n",
       "    <tr>\n",
       "      <th>0</th>\n",
       "      <td>1</td>\n",
       "      <td>15634602</td>\n",
       "      <td>Hargrave</td>\n",
       "      <td>619</td>\n",
       "      <td>France</td>\n",
       "      <td>Female</td>\n",
       "      <td>42</td>\n",
       "      <td>2</td>\n",
       "      <td>0.00</td>\n",
       "      <td>1</td>\n",
       "      <td>1</td>\n",
       "      <td>1</td>\n",
       "      <td>101348.88</td>\n",
       "      <td>1</td>\n",
       "      <td>1</td>\n",
       "      <td>2</td>\n",
       "      <td>DIAMOND</td>\n",
       "      <td>464</td>\n",
       "    </tr>\n",
       "    <tr>\n",
       "      <th>1</th>\n",
       "      <td>2</td>\n",
       "      <td>15647311</td>\n",
       "      <td>Hill</td>\n",
       "      <td>608</td>\n",
       "      <td>Spain</td>\n",
       "      <td>Female</td>\n",
       "      <td>41</td>\n",
       "      <td>1</td>\n",
       "      <td>83807.86</td>\n",
       "      <td>1</td>\n",
       "      <td>0</td>\n",
       "      <td>1</td>\n",
       "      <td>112542.58</td>\n",
       "      <td>0</td>\n",
       "      <td>1</td>\n",
       "      <td>3</td>\n",
       "      <td>DIAMOND</td>\n",
       "      <td>456</td>\n",
       "    </tr>\n",
       "    <tr>\n",
       "      <th>2</th>\n",
       "      <td>3</td>\n",
       "      <td>15619304</td>\n",
       "      <td>Onio</td>\n",
       "      <td>502</td>\n",
       "      <td>France</td>\n",
       "      <td>Female</td>\n",
       "      <td>42</td>\n",
       "      <td>8</td>\n",
       "      <td>159660.80</td>\n",
       "      <td>3</td>\n",
       "      <td>1</td>\n",
       "      <td>0</td>\n",
       "      <td>113931.57</td>\n",
       "      <td>1</td>\n",
       "      <td>1</td>\n",
       "      <td>3</td>\n",
       "      <td>DIAMOND</td>\n",
       "      <td>377</td>\n",
       "    </tr>\n",
       "    <tr>\n",
       "      <th>3</th>\n",
       "      <td>4</td>\n",
       "      <td>15701354</td>\n",
       "      <td>Boni</td>\n",
       "      <td>699</td>\n",
       "      <td>France</td>\n",
       "      <td>Female</td>\n",
       "      <td>39</td>\n",
       "      <td>1</td>\n",
       "      <td>0.00</td>\n",
       "      <td>2</td>\n",
       "      <td>0</td>\n",
       "      <td>0</td>\n",
       "      <td>93826.63</td>\n",
       "      <td>0</td>\n",
       "      <td>0</td>\n",
       "      <td>5</td>\n",
       "      <td>GOLD</td>\n",
       "      <td>350</td>\n",
       "    </tr>\n",
       "    <tr>\n",
       "      <th>4</th>\n",
       "      <td>5</td>\n",
       "      <td>15737888</td>\n",
       "      <td>Mitchell</td>\n",
       "      <td>850</td>\n",
       "      <td>Spain</td>\n",
       "      <td>Female</td>\n",
       "      <td>43</td>\n",
       "      <td>2</td>\n",
       "      <td>125510.82</td>\n",
       "      <td>1</td>\n",
       "      <td>1</td>\n",
       "      <td>1</td>\n",
       "      <td>79084.10</td>\n",
       "      <td>0</td>\n",
       "      <td>0</td>\n",
       "      <td>5</td>\n",
       "      <td>GOLD</td>\n",
       "      <td>425</td>\n",
       "    </tr>\n",
       "  </tbody>\n",
       "</table>\n",
       "</div>"
      ],
      "text/plain": [
       "   RowNumber  CustomerId   Surname  CreditScore Geography  Gender  Age  \\\n",
       "0          1    15634602  Hargrave          619    France  Female   42   \n",
       "1          2    15647311      Hill          608     Spain  Female   41   \n",
       "2          3    15619304      Onio          502    France  Female   42   \n",
       "3          4    15701354      Boni          699    France  Female   39   \n",
       "4          5    15737888  Mitchell          850     Spain  Female   43   \n",
       "\n",
       "   Tenure    Balance  NumOfProducts  HasCrCard  IsActiveMember  \\\n",
       "0       2       0.00              1          1               1   \n",
       "1       1   83807.86              1          0               1   \n",
       "2       8  159660.80              3          1               0   \n",
       "3       1       0.00              2          0               0   \n",
       "4       2  125510.82              1          1               1   \n",
       "\n",
       "   EstimatedSalary  Exited  Complain  Satisfaction Score Card Type  \\\n",
       "0        101348.88       1         1                   2   DIAMOND   \n",
       "1        112542.58       0         1                   3   DIAMOND   \n",
       "2        113931.57       1         1                   3   DIAMOND   \n",
       "3         93826.63       0         0                   5      GOLD   \n",
       "4         79084.10       0         0                   5      GOLD   \n",
       "\n",
       "   Point Earned  \n",
       "0           464  \n",
       "1           456  \n",
       "2           377  \n",
       "3           350  \n",
       "4           425  "
      ]
     },
     "execution_count": 3,
     "metadata": {},
     "output_type": "execute_result"
    }
   ],
   "source": [
    "df.head()"
   ]
  },
  {
   "cell_type": "code",
   "execution_count": null,
   "metadata": {
    "ExecuteTime": {
     "end_time": "2024-05-08T15:02:02.140985Z",
     "start_time": "2024-05-08T15:02:02.101568Z"
    }
   },
   "outputs": [
    {
     "data": {
      "text/plain": [
       "0"
      ]
     },
     "execution_count": 4,
     "metadata": {},
     "output_type": "execute_result"
    }
   ],
   "source": [
    "# Check for duplicates \n",
    "df.duplicated().sum()"
   ]
  },
  {
   "cell_type": "code",
   "execution_count": null,
   "metadata": {
    "ExecuteTime": {
     "end_time": "2024-05-08T15:02:02.382464Z",
     "start_time": "2024-05-08T15:02:02.361828Z"
    }
   },
   "outputs": [
    {
     "name": "stdout",
     "output_type": "stream",
     "text": [
      "<class 'pandas.core.frame.DataFrame'>\n",
      "RangeIndex: 10000 entries, 0 to 9999\n",
      "Data columns (total 18 columns):\n",
      " #   Column              Non-Null Count  Dtype  \n",
      "---  ------              --------------  -----  \n",
      " 0   RowNumber           10000 non-null  int64  \n",
      " 1   CustomerId          10000 non-null  int64  \n",
      " 2   Surname             10000 non-null  object \n",
      " 3   CreditScore         10000 non-null  int64  \n",
      " 4   Geography           10000 non-null  object \n",
      " 5   Gender              10000 non-null  object \n",
      " 6   Age                 10000 non-null  int64  \n",
      " 7   Tenure              10000 non-null  int64  \n",
      " 8   Balance             10000 non-null  float64\n",
      " 9   NumOfProducts       10000 non-null  int64  \n",
      " 10  HasCrCard           10000 non-null  int64  \n",
      " 11  IsActiveMember      10000 non-null  int64  \n",
      " 12  EstimatedSalary     10000 non-null  float64\n",
      " 13  Exited              10000 non-null  int64  \n",
      " 14  Complain            10000 non-null  int64  \n",
      " 15  Satisfaction Score  10000 non-null  int64  \n",
      " 16  Card Type           10000 non-null  object \n",
      " 17  Point Earned        10000 non-null  int64  \n",
      "dtypes: float64(2), int64(12), object(4)\n",
      "memory usage: 1.4+ MB\n"
     ]
    }
   ],
   "source": [
    "df.info()"
   ]
  },
  {
   "cell_type": "markdown",
   "metadata": {},
   "source": [
    "Based on the output provided, the data is clean, with all columns formatted appropriately, no missing values and no duplicated data. But before going to the analysis Phase. We are going to change the value of 0 and 1 in columns `HasCrCard`, `IsActiveMember`, `Exited` and `Complain`, 1 == Yes and 0 == No."
   ]
  },
  {
   "cell_type": "code",
   "execution_count": null,
   "metadata": {
    "ExecuteTime": {
     "end_time": "2024-05-08T15:02:02.466591Z",
     "start_time": "2024-05-08T15:02:02.449568Z"
    }
   },
   "outputs": [],
   "source": [
    "df[['HasCrCard', 'IsActiveMember', 'Exited', 'Complain']] = df[['HasCrCard', 'IsActiveMember', 'Exited', 'Complain']].replace(0, 'No').replace(1, 'Yes')"
   ]
  },
  {
   "cell_type": "code",
   "execution_count": null,
   "metadata": {
    "ExecuteTime": {
     "end_time": "2024-05-08T15:02:02.831441Z",
     "start_time": "2024-05-08T15:02:02.810783Z"
    }
   },
   "outputs": [
    {
     "data": {
      "text/html": [
       "<div>\n",
       "<style scoped>\n",
       "    .dataframe tbody tr th:only-of-type {\n",
       "        vertical-align: middle;\n",
       "    }\n",
       "\n",
       "    .dataframe tbody tr th {\n",
       "        vertical-align: top;\n",
       "    }\n",
       "\n",
       "    .dataframe thead th {\n",
       "        text-align: right;\n",
       "    }\n",
       "</style>\n",
       "<table border=\"1\" class=\"dataframe\">\n",
       "  <thead>\n",
       "    <tr style=\"text-align: right;\">\n",
       "      <th></th>\n",
       "      <th>RowNumber</th>\n",
       "      <th>CustomerId</th>\n",
       "      <th>Surname</th>\n",
       "      <th>CreditScore</th>\n",
       "      <th>Geography</th>\n",
       "      <th>Gender</th>\n",
       "      <th>Age</th>\n",
       "      <th>Tenure</th>\n",
       "      <th>Balance</th>\n",
       "      <th>NumOfProducts</th>\n",
       "      <th>HasCrCard</th>\n",
       "      <th>IsActiveMember</th>\n",
       "      <th>EstimatedSalary</th>\n",
       "      <th>Exited</th>\n",
       "      <th>Complain</th>\n",
       "      <th>Satisfaction Score</th>\n",
       "      <th>Card Type</th>\n",
       "      <th>Point Earned</th>\n",
       "    </tr>\n",
       "  </thead>\n",
       "  <tbody>\n",
       "    <tr>\n",
       "      <th>0</th>\n",
       "      <td>1</td>\n",
       "      <td>15634602</td>\n",
       "      <td>Hargrave</td>\n",
       "      <td>619</td>\n",
       "      <td>France</td>\n",
       "      <td>Female</td>\n",
       "      <td>42</td>\n",
       "      <td>2</td>\n",
       "      <td>0.00</td>\n",
       "      <td>1</td>\n",
       "      <td>Yes</td>\n",
       "      <td>Yes</td>\n",
       "      <td>101348.88</td>\n",
       "      <td>Yes</td>\n",
       "      <td>Yes</td>\n",
       "      <td>2</td>\n",
       "      <td>DIAMOND</td>\n",
       "      <td>464</td>\n",
       "    </tr>\n",
       "    <tr>\n",
       "      <th>1</th>\n",
       "      <td>2</td>\n",
       "      <td>15647311</td>\n",
       "      <td>Hill</td>\n",
       "      <td>608</td>\n",
       "      <td>Spain</td>\n",
       "      <td>Female</td>\n",
       "      <td>41</td>\n",
       "      <td>1</td>\n",
       "      <td>83807.86</td>\n",
       "      <td>1</td>\n",
       "      <td>No</td>\n",
       "      <td>Yes</td>\n",
       "      <td>112542.58</td>\n",
       "      <td>No</td>\n",
       "      <td>Yes</td>\n",
       "      <td>3</td>\n",
       "      <td>DIAMOND</td>\n",
       "      <td>456</td>\n",
       "    </tr>\n",
       "    <tr>\n",
       "      <th>2</th>\n",
       "      <td>3</td>\n",
       "      <td>15619304</td>\n",
       "      <td>Onio</td>\n",
       "      <td>502</td>\n",
       "      <td>France</td>\n",
       "      <td>Female</td>\n",
       "      <td>42</td>\n",
       "      <td>8</td>\n",
       "      <td>159660.80</td>\n",
       "      <td>3</td>\n",
       "      <td>Yes</td>\n",
       "      <td>No</td>\n",
       "      <td>113931.57</td>\n",
       "      <td>Yes</td>\n",
       "      <td>Yes</td>\n",
       "      <td>3</td>\n",
       "      <td>DIAMOND</td>\n",
       "      <td>377</td>\n",
       "    </tr>\n",
       "    <tr>\n",
       "      <th>3</th>\n",
       "      <td>4</td>\n",
       "      <td>15701354</td>\n",
       "      <td>Boni</td>\n",
       "      <td>699</td>\n",
       "      <td>France</td>\n",
       "      <td>Female</td>\n",
       "      <td>39</td>\n",
       "      <td>1</td>\n",
       "      <td>0.00</td>\n",
       "      <td>2</td>\n",
       "      <td>No</td>\n",
       "      <td>No</td>\n",
       "      <td>93826.63</td>\n",
       "      <td>No</td>\n",
       "      <td>No</td>\n",
       "      <td>5</td>\n",
       "      <td>GOLD</td>\n",
       "      <td>350</td>\n",
       "    </tr>\n",
       "    <tr>\n",
       "      <th>4</th>\n",
       "      <td>5</td>\n",
       "      <td>15737888</td>\n",
       "      <td>Mitchell</td>\n",
       "      <td>850</td>\n",
       "      <td>Spain</td>\n",
       "      <td>Female</td>\n",
       "      <td>43</td>\n",
       "      <td>2</td>\n",
       "      <td>125510.82</td>\n",
       "      <td>1</td>\n",
       "      <td>Yes</td>\n",
       "      <td>Yes</td>\n",
       "      <td>79084.10</td>\n",
       "      <td>No</td>\n",
       "      <td>No</td>\n",
       "      <td>5</td>\n",
       "      <td>GOLD</td>\n",
       "      <td>425</td>\n",
       "    </tr>\n",
       "  </tbody>\n",
       "</table>\n",
       "</div>"
      ],
      "text/plain": [
       "   RowNumber  CustomerId   Surname  CreditScore Geography  Gender  Age  \\\n",
       "0          1    15634602  Hargrave          619    France  Female   42   \n",
       "1          2    15647311      Hill          608     Spain  Female   41   \n",
       "2          3    15619304      Onio          502    France  Female   42   \n",
       "3          4    15701354      Boni          699    France  Female   39   \n",
       "4          5    15737888  Mitchell          850     Spain  Female   43   \n",
       "\n",
       "   Tenure    Balance  NumOfProducts HasCrCard IsActiveMember  EstimatedSalary  \\\n",
       "0       2       0.00              1       Yes            Yes        101348.88   \n",
       "1       1   83807.86              1        No            Yes        112542.58   \n",
       "2       8  159660.80              3       Yes             No        113931.57   \n",
       "3       1       0.00              2        No             No         93826.63   \n",
       "4       2  125510.82              1       Yes            Yes         79084.10   \n",
       "\n",
       "  Exited Complain  Satisfaction Score Card Type  Point Earned  \n",
       "0    Yes      Yes                   2   DIAMOND           464  \n",
       "1     No      Yes                   3   DIAMOND           456  \n",
       "2    Yes      Yes                   3   DIAMOND           377  \n",
       "3     No       No                   5      GOLD           350  \n",
       "4     No       No                   5      GOLD           425  "
      ]
     },
     "execution_count": 7,
     "metadata": {},
     "output_type": "execute_result"
    }
   ],
   "source": [
    "df.head()"
   ]
  },
  {
   "cell_type": "markdown",
   "metadata": {},
   "source": [
    "Before we explore the data, unused column such as `RowNumber`, `CustomerId` and `surname` will be dropped."
   ]
  },
  {
   "cell_type": "code",
   "execution_count": null,
   "metadata": {
    "ExecuteTime": {
     "end_time": "2024-05-08T15:02:03.038831Z",
     "start_time": "2024-05-08T15:02:03.029676Z"
    }
   },
   "outputs": [],
   "source": [
    "df.drop(['RowNumber', 'CustomerId', 'Surname'], axis = 1, inplace= True)"
   ]
  },
  {
   "cell_type": "markdown",
   "metadata": {},
   "source": [
    "# F. Data Analysis"
   ]
  },
  {
   "cell_type": "markdown",
   "metadata": {},
   "source": [
    "##  Numerical Data Descriptions"
   ]
  },
  {
   "cell_type": "code",
   "execution_count": null,
   "metadata": {},
   "outputs": [
    {
     "data": {
      "text/html": [
       "<div>\n",
       "<style scoped>\n",
       "    .dataframe tbody tr th:only-of-type {\n",
       "        vertical-align: middle;\n",
       "    }\n",
       "\n",
       "    .dataframe tbody tr th {\n",
       "        vertical-align: top;\n",
       "    }\n",
       "\n",
       "    .dataframe thead th {\n",
       "        text-align: right;\n",
       "    }\n",
       "</style>\n",
       "<table border=\"1\" class=\"dataframe\">\n",
       "  <thead>\n",
       "    <tr style=\"text-align: right;\">\n",
       "      <th></th>\n",
       "      <th>count</th>\n",
       "      <th>mean</th>\n",
       "      <th>std</th>\n",
       "      <th>min</th>\n",
       "      <th>25%</th>\n",
       "      <th>50%</th>\n",
       "      <th>75%</th>\n",
       "      <th>max</th>\n",
       "    </tr>\n",
       "  </thead>\n",
       "  <tbody>\n",
       "    <tr>\n",
       "      <th>CreditScore</th>\n",
       "      <td>10000.0</td>\n",
       "      <td>650.528800</td>\n",
       "      <td>96.653299</td>\n",
       "      <td>350.00</td>\n",
       "      <td>584.00</td>\n",
       "      <td>652.000</td>\n",
       "      <td>718.0000</td>\n",
       "      <td>850.00</td>\n",
       "    </tr>\n",
       "    <tr>\n",
       "      <th>Age</th>\n",
       "      <td>10000.0</td>\n",
       "      <td>38.921800</td>\n",
       "      <td>10.487806</td>\n",
       "      <td>18.00</td>\n",
       "      <td>32.00</td>\n",
       "      <td>37.000</td>\n",
       "      <td>44.0000</td>\n",
       "      <td>92.00</td>\n",
       "    </tr>\n",
       "    <tr>\n",
       "      <th>Tenure</th>\n",
       "      <td>10000.0</td>\n",
       "      <td>5.012800</td>\n",
       "      <td>2.892174</td>\n",
       "      <td>0.00</td>\n",
       "      <td>3.00</td>\n",
       "      <td>5.000</td>\n",
       "      <td>7.0000</td>\n",
       "      <td>10.00</td>\n",
       "    </tr>\n",
       "    <tr>\n",
       "      <th>Balance</th>\n",
       "      <td>10000.0</td>\n",
       "      <td>76485.889288</td>\n",
       "      <td>62397.405202</td>\n",
       "      <td>0.00</td>\n",
       "      <td>0.00</td>\n",
       "      <td>97198.540</td>\n",
       "      <td>127644.2400</td>\n",
       "      <td>250898.09</td>\n",
       "    </tr>\n",
       "    <tr>\n",
       "      <th>NumOfProducts</th>\n",
       "      <td>10000.0</td>\n",
       "      <td>1.530200</td>\n",
       "      <td>0.581654</td>\n",
       "      <td>1.00</td>\n",
       "      <td>1.00</td>\n",
       "      <td>1.000</td>\n",
       "      <td>2.0000</td>\n",
       "      <td>4.00</td>\n",
       "    </tr>\n",
       "    <tr>\n",
       "      <th>EstimatedSalary</th>\n",
       "      <td>10000.0</td>\n",
       "      <td>100090.239881</td>\n",
       "      <td>57510.492818</td>\n",
       "      <td>11.58</td>\n",
       "      <td>51002.11</td>\n",
       "      <td>100193.915</td>\n",
       "      <td>149388.2475</td>\n",
       "      <td>199992.48</td>\n",
       "    </tr>\n",
       "    <tr>\n",
       "      <th>Satisfaction Score</th>\n",
       "      <td>10000.0</td>\n",
       "      <td>3.013800</td>\n",
       "      <td>1.405919</td>\n",
       "      <td>1.00</td>\n",
       "      <td>2.00</td>\n",
       "      <td>3.000</td>\n",
       "      <td>4.0000</td>\n",
       "      <td>5.00</td>\n",
       "    </tr>\n",
       "    <tr>\n",
       "      <th>Point Earned</th>\n",
       "      <td>10000.0</td>\n",
       "      <td>606.515100</td>\n",
       "      <td>225.924839</td>\n",
       "      <td>119.00</td>\n",
       "      <td>410.00</td>\n",
       "      <td>605.000</td>\n",
       "      <td>801.0000</td>\n",
       "      <td>1000.00</td>\n",
       "    </tr>\n",
       "  </tbody>\n",
       "</table>\n",
       "</div>"
      ],
      "text/plain": [
       "                      count           mean           std     min       25%  \\\n",
       "CreditScore         10000.0     650.528800     96.653299  350.00    584.00   \n",
       "Age                 10000.0      38.921800     10.487806   18.00     32.00   \n",
       "Tenure              10000.0       5.012800      2.892174    0.00      3.00   \n",
       "Balance             10000.0   76485.889288  62397.405202    0.00      0.00   \n",
       "NumOfProducts       10000.0       1.530200      0.581654    1.00      1.00   \n",
       "EstimatedSalary     10000.0  100090.239881  57510.492818   11.58  51002.11   \n",
       "Satisfaction Score  10000.0       3.013800      1.405919    1.00      2.00   \n",
       "Point Earned        10000.0     606.515100    225.924839  119.00    410.00   \n",
       "\n",
       "                           50%          75%        max  \n",
       "CreditScore            652.000     718.0000     850.00  \n",
       "Age                     37.000      44.0000      92.00  \n",
       "Tenure                   5.000       7.0000      10.00  \n",
       "Balance              97198.540  127644.2400  250898.09  \n",
       "NumOfProducts            1.000       2.0000       4.00  \n",
       "EstimatedSalary     100193.915  149388.2475  199992.48  \n",
       "Satisfaction Score       3.000       4.0000       5.00  \n",
       "Point Earned           605.000     801.0000    1000.00  "
      ]
     },
     "execution_count": 9,
     "metadata": {},
     "output_type": "execute_result"
    }
   ],
   "source": [
    "df.describe().T"
   ]
  },
  {
   "cell_type": "markdown",
   "metadata": {},
   "source": [
    "Based on the data above we can see that the average satisfaction rate is 3, and the average tenure of customer is 5 years. "
   ]
  },
  {
   "cell_type": "markdown",
   "metadata": {},
   "source": [
    "## 1. What is the average age of customers? Average age of exited and not exited?"
   ]
  },
  {
   "cell_type": "code",
   "execution_count": null,
   "metadata": {},
   "outputs": [
    {
     "name": "stderr",
     "output_type": "stream",
     "text": [
      "/opt/anaconda3/lib/python3.11/site-packages/seaborn/_oldcore.py:1119: FutureWarning: use_inf_as_na option is deprecated and will be removed in a future version. Convert inf values to NaN before operating instead.\n",
      "  with pd.option_context('mode.use_inf_as_na', True):\n"
     ]
    },
    {
     "data": {
      "image/png": "[encoded data removed]",
      "text/plain": [
       "<Figure size 800x600 with 1 Axes>"
      ]
     },
     "metadata": {},
     "output_type": "display_data"
    }
   ],
   "source": [
    "# Age Distribution\n",
    "plt.figure(figsize=(8, 6))\n",
    "sns.histplot(df['Age'], bins=20, kde=True)\n",
    "plt.title('Distribution of Churn by Age')\n",
    "plt.xlabel('Age')\n",
    "plt.ylabel('Count')\n",
    "plt.show()"
   ]
  },
  {
   "cell_type": "code",
   "execution_count": null,
   "metadata": {},
   "outputs": [
    {
     "data": {
      "text/plain": [
       "count    10000.000000\n",
       "mean        38.921800\n",
       "std         10.487806\n",
       "min         18.000000\n",
       "25%         32.000000\n",
       "50%         37.000000\n",
       "75%         44.000000\n",
       "max         92.000000\n",
       "Name: Age, dtype: float64"
      ]
     },
     "execution_count": 11,
     "metadata": {},
     "output_type": "execute_result"
    }
   ],
   "source": [
    "# average age of customer \n",
    "df['Age'].describe()"
   ]
  },
  {
   "cell_type": "markdown",
   "metadata": {},
   "source": [
    "The average of customer age is 38.9 years old, with the youngest customer is 18 years old, and the older customer recorded is 92 years old."
   ]
  },
  {
   "cell_type": "code",
   "execution_count": null,
   "metadata": {},
   "outputs": [
    {
     "name": "stderr",
     "output_type": "stream",
     "text": [
      "/opt/anaconda3/lib/python3.11/site-packages/seaborn/_oldcore.py:1119: FutureWarning: use_inf_as_na option is deprecated and will be removed in a future version. Convert inf values to NaN before operating instead.\n",
      "  with pd.option_context('mode.use_inf_as_na', True):\n",
      "/opt/anaconda3/lib/python3.11/site-packages/seaborn/_oldcore.py:1075: FutureWarning: When grouping with a length-1 list-like, you will need to pass a length-1 tuple to get_group in a future version of pandas. Pass `(name,)` instead of `name` to silence this warning.\n",
      "  data_subset = grouped_data.get_group(pd_key)\n",
      "/opt/anaconda3/lib/python3.11/site-packages/seaborn/_oldcore.py:1075: FutureWarning: When grouping with a length-1 list-like, you will need to pass a length-1 tuple to get_group in a future version of pandas. Pass `(name,)` instead of `name` to silence this warning.\n",
      "  data_subset = grouped_data.get_group(pd_key)\n",
      "/opt/anaconda3/lib/python3.11/site-packages/seaborn/_oldcore.py:1075: FutureWarning: When grouping with a length-1 list-like, you will need to pass a length-1 tuple to get_group in a future version of pandas. Pass `(name,)` instead of `name` to silence this warning.\n",
      "  data_subset = grouped_data.get_group(pd_key)\n",
      "/opt/anaconda3/lib/python3.11/site-packages/seaborn/_oldcore.py:1075: FutureWarning: When grouping with a length-1 list-like, you will need to pass a length-1 tuple to get_group in a future version of pandas. Pass `(name,)` instead of `name` to silence this warning.\n",
      "  data_subset = grouped_data.get_group(pd_key)\n"
     ]
    },
    {
     "data": {
      "image/png": "[encoded data removed]",
      "text/plain": [
       "<Figure size 800x600 with 1 Axes>"
      ]
     },
     "metadata": {},
     "output_type": "display_data"
    }
   ],
   "source": [
    "# create comparation histogram\n",
    "plt.figure(figsize=(8, 6))\n",
    "sns.histplot(df, x='Age', hue='Exited', bins=20, kde=True)\n",
    "plt.title('Histogram Comparison of Age for Exited Customers')\n",
    "plt.xlabel('Age')\n",
    "plt.ylabel('Count')\n",
    "plt.legend(title='Exited', labels=['No', 'Yes'])\n",
    "\n",
    "plt.show()"
   ]
  },
  {
   "cell_type": "code",
   "execution_count": null,
   "metadata": {},
   "outputs": [
    {
     "data": {
      "text/html": [
       "<div>\n",
       "<style scoped>\n",
       "    .dataframe tbody tr th:only-of-type {\n",
       "        vertical-align: middle;\n",
       "    }\n",
       "\n",
       "    .dataframe tbody tr th {\n",
       "        vertical-align: top;\n",
       "    }\n",
       "\n",
       "    .dataframe thead th {\n",
       "        text-align: right;\n",
       "    }\n",
       "</style>\n",
       "<table border=\"1\" class=\"dataframe\">\n",
       "  <thead>\n",
       "    <tr style=\"text-align: right;\">\n",
       "      <th></th>\n",
       "      <th>Exited</th>\n",
       "      <th>Age</th>\n",
       "    </tr>\n",
       "  </thead>\n",
       "  <tbody>\n",
       "    <tr>\n",
       "      <th>0</th>\n",
       "      <td>No</td>\n",
       "      <td>37.408063</td>\n",
       "    </tr>\n",
       "    <tr>\n",
       "      <th>1</th>\n",
       "      <td>Yes</td>\n",
       "      <td>44.835623</td>\n",
       "    </tr>\n",
       "  </tbody>\n",
       "</table>\n",
       "</div>"
      ],
      "text/plain": [
       "  Exited        Age\n",
       "0     No  37.408063\n",
       "1    Yes  44.835623"
      ]
     },
     "execution_count": 13,
     "metadata": {},
     "output_type": "execute_result"
    }
   ],
   "source": [
    "# Average age of customer churn\n",
    "df.groupby('Exited')['Age'].mean().reset_index()"
   ]
  },
  {
   "cell_type": "markdown",
   "metadata": {},
   "source": [
    "The last histogram show that customer above 40 years old in likely to exit from the bank."
   ]
  },
  {
   "cell_type": "markdown",
   "metadata": {},
   "source": [
    "## 2. What's the percentage of churn by gender?"
   ]
  },
  {
   "cell_type": "code",
   "execution_count": null,
   "metadata": {},
   "outputs": [
    {
     "data": {
      "image/png": "[encoded data removed]",
      "text/plain": [
       "<Figure size 600x600 with 1 Axes>"
      ]
     },
     "metadata": {},
     "output_type": "display_data"
    }
   ],
   "source": [
    "# create bar chart\n",
    "plt.figure(figsize=(6, 6))\n",
    "sns.countplot(df, x='Gender')\n",
    "plt.title('Gender Distribution')\n",
    "plt.xlabel(None)\n",
    "plt.ylabel('Count')\n",
    "\n",
    "plt.show()"
   ]
  },
  {
   "cell_type": "code",
   "execution_count": null,
   "metadata": {
    "ExecuteTime": {
     "end_time": "2024-05-08T15:02:03.426596Z",
     "start_time": "2024-05-08T15:02:03.384082Z"
    }
   },
   "outputs": [
    {
     "data": {
      "text/html": [
       "<div>\n",
       "<style scoped>\n",
       "    .dataframe tbody tr th:only-of-type {\n",
       "        vertical-align: middle;\n",
       "    }\n",
       "\n",
       "    .dataframe tbody tr th {\n",
       "        vertical-align: top;\n",
       "    }\n",
       "\n",
       "    .dataframe thead th {\n",
       "        text-align: right;\n",
       "    }\n",
       "</style>\n",
       "<table border=\"1\" class=\"dataframe\">\n",
       "  <thead>\n",
       "    <tr style=\"text-align: right;\">\n",
       "      <th></th>\n",
       "      <th>Gender</th>\n",
       "      <th>Exited</th>\n",
       "      <th>percentage</th>\n",
       "    </tr>\n",
       "  </thead>\n",
       "  <tbody>\n",
       "    <tr>\n",
       "      <th>0</th>\n",
       "      <td>Female</td>\n",
       "      <td>No</td>\n",
       "      <td>34.04</td>\n",
       "    </tr>\n",
       "    <tr>\n",
       "      <th>1</th>\n",
       "      <td>Female</td>\n",
       "      <td>Yes</td>\n",
       "      <td>11.39</td>\n",
       "    </tr>\n",
       "    <tr>\n",
       "      <th>2</th>\n",
       "      <td>Male</td>\n",
       "      <td>No</td>\n",
       "      <td>45.58</td>\n",
       "    </tr>\n",
       "    <tr>\n",
       "      <th>3</th>\n",
       "      <td>Male</td>\n",
       "      <td>Yes</td>\n",
       "      <td>8.99</td>\n",
       "    </tr>\n",
       "  </tbody>\n",
       "</table>\n",
       "</div>"
      ],
      "text/plain": [
       "   Gender Exited  percentage\n",
       "0  Female     No       34.04\n",
       "1  Female    Yes       11.39\n",
       "2    Male     No       45.58\n",
       "3    Male    Yes        8.99"
      ]
     },
     "execution_count": 15,
     "metadata": {},
     "output_type": "execute_result"
    }
   ],
   "source": [
    "# create reusable function\n",
    "def calculate_percentage(x):\n",
    "    return (x / x.sum()) * 100\n",
    "\n",
    "# grouping data and calculate percentage\n",
    "gender_churn = df.groupby('Gender')['Exited'].value_counts().pipe(calculate_percentage).reset_index(name = 'percentage')\n",
    "gender_churn"
   ]
  },
  {
   "cell_type": "code",
   "execution_count": null,
   "metadata": {
    "ExecuteTime": {
     "end_time": "2024-05-08T15:02:25.784991Z",
     "start_time": "2024-05-08T15:02:24.729452Z"
    }
   },
   "outputs": [
    {
     "data": {
      "image/png": "[encoded data removed]",
      "text/plain": [
       "<Figure size 640x480 with 1 Axes>"
      ]
     },
     "metadata": {},
     "output_type": "display_data"
    }
   ],
   "source": [
    "# create bar chart\n",
    "ax = sns.barplot(data=gender_churn, y='percentage', x='Gender', hue='Exited')\n",
    "plt.xlabel(None)\n",
    "plt.ylabel('Percentage')\n",
    "plt.legend(title='Exited')\n",
    "plt.title('Distribution of churn by gender')\n",
    "\n",
    "# adding label on each bar \n",
    "for label in ax.patches:\n",
    "    ax.annotate(f'{label.get_height():.1f}%', \n",
    "                (label.get_x() + label.get_width() / 2., label.get_height()),\n",
    "                ha='center', va='center', fontsize=10, color='black',\n",
    "                xytext=(0, 5), textcoords='offset points')\n",
    "\n",
    "plt.show()"
   ]
  },
  {
   "cell_type": "markdown",
   "metadata": {},
   "source": [
    "Based on the bar chart, female customers have a higher proportion of customers who have exited the bank approximately 11.4% of total customer."
   ]
  },
  {
   "cell_type": "markdown",
   "metadata": {},
   "source": [
    "## 3. Are actively engaged customers more likely to have credit cards?"
   ]
  },
  {
   "cell_type": "code",
   "execution_count": null,
   "metadata": {},
   "outputs": [
    {
     "data": {
      "image/png": "[encoded data removed]",
      "text/plain": [
       "<Figure size 800x600 with 1 Axes>"
      ]
     },
     "metadata": {},
     "output_type": "display_data"
    }
   ],
   "source": [
    "# grouping data and renaming value\n",
    "activeCust_CrCard = df.groupby(['IsActiveMember', 'HasCrCard']).size().reset_index(name='Count').copy()\n",
    "activeCust_CrCard['IsActiveMember']= activeCust_CrCard['IsActiveMember'].str.replace('Yes', 'Active').str.replace('No', 'Inactive')\n",
    "\n",
    "\n",
    "# Plot comparison using a bar plot\n",
    "plt.figure(figsize=(8, 6))\n",
    "ax = sns.barplot(activeCust_CrCard, x='IsActiveMember', y='Count', hue='HasCrCard')\n",
    "plt.title('Comparison of Credit Card Ownership by Active Members')\n",
    "plt.xlabel('Active Member')\n",
    "plt.ylabel('Count')\n",
    "\n",
    "plt.show()"
   ]
  },
  {
   "cell_type": "code",
   "execution_count": null,
   "metadata": {},
   "outputs": [
    {
     "data": {
      "text/html": [
       "<div>\n",
       "<style scoped>\n",
       "    .dataframe tbody tr th:only-of-type {\n",
       "        vertical-align: middle;\n",
       "    }\n",
       "\n",
       "    .dataframe tbody tr th {\n",
       "        vertical-align: top;\n",
       "    }\n",
       "\n",
       "    .dataframe thead th {\n",
       "        text-align: right;\n",
       "    }\n",
       "</style>\n",
       "<table border=\"1\" class=\"dataframe\">\n",
       "  <thead>\n",
       "    <tr style=\"text-align: right;\">\n",
       "      <th></th>\n",
       "      <th>IsActiveMember</th>\n",
       "      <th>HasCrCard</th>\n",
       "      <th>Count</th>\n",
       "    </tr>\n",
       "  </thead>\n",
       "  <tbody>\n",
       "    <tr>\n",
       "      <th>0</th>\n",
       "      <td>Inactive</td>\n",
       "      <td>No</td>\n",
       "      <td>1401</td>\n",
       "    </tr>\n",
       "    <tr>\n",
       "      <th>1</th>\n",
       "      <td>Inactive</td>\n",
       "      <td>Yes</td>\n",
       "      <td>3448</td>\n",
       "    </tr>\n",
       "    <tr>\n",
       "      <th>2</th>\n",
       "      <td>Active</td>\n",
       "      <td>No</td>\n",
       "      <td>1544</td>\n",
       "    </tr>\n",
       "    <tr>\n",
       "      <th>3</th>\n",
       "      <td>Active</td>\n",
       "      <td>Yes</td>\n",
       "      <td>3607</td>\n",
       "    </tr>\n",
       "  </tbody>\n",
       "</table>\n",
       "</div>"
      ],
      "text/plain": [
       "  IsActiveMember HasCrCard  Count\n",
       "0       Inactive        No   1401\n",
       "1       Inactive       Yes   3448\n",
       "2         Active        No   1544\n",
       "3         Active       Yes   3607"
      ]
     },
     "execution_count": 18,
     "metadata": {},
     "output_type": "execute_result"
    }
   ],
   "source": [
    "activeCust_CrCard.head()"
   ]
  },
  {
   "cell_type": "markdown",
   "metadata": {},
   "source": [
    "Based on the provided data, we cannot conclusively state that actively engaged customers are more likely to have credit cards compared to non-active customers. Both groups have a high proportion of customers with credit cards, with a slightly higher percentage observed among non-active customers."
   ]
  },
  {
   "cell_type": "markdown",
   "metadata": {},
   "source": [
    "## 4. What is the percentage of customers who have a credit card but inactive members of the bank?"
   ]
  },
  {
   "cell_type": "code",
   "execution_count": null,
   "metadata": {},
   "outputs": [
    {
     "data": {
      "text/html": [
       "<div>\n",
       "<style scoped>\n",
       "    .dataframe tbody tr th:only-of-type {\n",
       "        vertical-align: middle;\n",
       "    }\n",
       "\n",
       "    .dataframe tbody tr th {\n",
       "        vertical-align: top;\n",
       "    }\n",
       "\n",
       "    .dataframe thead th {\n",
       "        text-align: right;\n",
       "    }\n",
       "</style>\n",
       "<table border=\"1\" class=\"dataframe\">\n",
       "  <thead>\n",
       "    <tr style=\"text-align: right;\">\n",
       "      <th></th>\n",
       "      <th>HasCrCard</th>\n",
       "      <th>percentage</th>\n",
       "    </tr>\n",
       "  </thead>\n",
       "  <tbody>\n",
       "    <tr>\n",
       "      <th>0</th>\n",
       "      <td>Yes</td>\n",
       "      <td>71.107445</td>\n",
       "    </tr>\n",
       "    <tr>\n",
       "      <th>1</th>\n",
       "      <td>No</td>\n",
       "      <td>28.892555</td>\n",
       "    </tr>\n",
       "  </tbody>\n",
       "</table>\n",
       "</div>"
      ],
      "text/plain": [
       "  HasCrCard  percentage\n",
       "0       Yes   71.107445\n",
       "1        No   28.892555"
      ]
     },
     "execution_count": 19,
     "metadata": {},
     "output_type": "execute_result"
    }
   ],
   "source": [
    "credit_card_inactive_members = df.query(\"IsActiveMember == 'No'\")['HasCrCard'].value_counts().pipe(calculate_percentage).reset_index(name = 'percentage')\n",
    "credit_card_inactive_members "
   ]
  },
  {
   "cell_type": "code",
   "execution_count": null,
   "metadata": {},
   "outputs": [
    {
     "data": {
      "image/png": "[encoded data removed]",
      "text/plain": [
       "<Figure size 800x600 with 1 Axes>"
      ]
     },
     "metadata": {},
     "output_type": "display_data"
    }
   ],
   "source": [
    "# create pie chart\n",
    "plt.figure(figsize=(8, 6))\n",
    "plt.pie(credit_card_inactive_members['percentage'], labels = credit_card_inactive_members['HasCrCard'], autopct='%1.1f%%', startangle=140)\n",
    "plt.title('Percentage of Inactive Customer Who Holds Credit Card')\n",
    "plt.axis('equal') \n",
    "\n",
    "plt.show()"
   ]
  },
  {
   "cell_type": "markdown",
   "metadata": {},
   "source": [
    "The pie chart provides the distribution of credit card ownership among customers who are not active members. It indicates that a significant majority (approximately 71.11%) of inactive customers still have a credit card, while a smaller proportion (approximately 28.89%) do not."
   ]
  },
  {
   "cell_type": "markdown",
   "metadata": {},
   "source": [
    "## 5. What is the breakdown of credit card types for customers who have filed a complain?"
   ]
  },
  {
   "cell_type": "code",
   "execution_count": null,
   "metadata": {},
   "outputs": [
    {
     "data": {
      "text/html": [
       "<div>\n",
       "<style scoped>\n",
       "    .dataframe tbody tr th:only-of-type {\n",
       "        vertical-align: middle;\n",
       "    }\n",
       "\n",
       "    .dataframe tbody tr th {\n",
       "        vertical-align: top;\n",
       "    }\n",
       "\n",
       "    .dataframe thead th {\n",
       "        text-align: right;\n",
       "    }\n",
       "</style>\n",
       "<table border=\"1\" class=\"dataframe\">\n",
       "  <thead>\n",
       "    <tr style=\"text-align: right;\">\n",
       "      <th></th>\n",
       "      <th>Card Type</th>\n",
       "      <th>percentage</th>\n",
       "    </tr>\n",
       "  </thead>\n",
       "  <tbody>\n",
       "    <tr>\n",
       "      <th>0</th>\n",
       "      <td>DIAMOND</td>\n",
       "      <td>26.761252</td>\n",
       "    </tr>\n",
       "    <tr>\n",
       "      <th>1</th>\n",
       "      <td>PLATINUM</td>\n",
       "      <td>25.000000</td>\n",
       "    </tr>\n",
       "    <tr>\n",
       "      <th>2</th>\n",
       "      <td>SILVER</td>\n",
       "      <td>24.559687</td>\n",
       "    </tr>\n",
       "    <tr>\n",
       "      <th>3</th>\n",
       "      <td>GOLD</td>\n",
       "      <td>23.679061</td>\n",
       "    </tr>\n",
       "  </tbody>\n",
       "</table>\n",
       "</div>"
      ],
      "text/plain": [
       "  Card Type  percentage\n",
       "0   DIAMOND   26.761252\n",
       "1  PLATINUM   25.000000\n",
       "2    SILVER   24.559687\n",
       "3      GOLD   23.679061"
      ]
     },
     "execution_count": 21,
     "metadata": {},
     "output_type": "execute_result"
    }
   ],
   "source": [
    "complain_customers = df[df['Complain'] == 'Yes'].value_counts('Card Type').pipe(calculate_percentage).reset_index(name = 'percentage')\n",
    "complain_customers "
   ]
  },
  {
   "cell_type": "code",
   "execution_count": null,
   "metadata": {},
   "outputs": [
    {
     "data": {
      "image/png": "[encoded data removed]",
      "text/plain": [
       "<Figure size 800x600 with 1 Axes>"
      ]
     },
     "metadata": {},
     "output_type": "display_data"
    }
   ],
   "source": [
    "# create pi chart\n",
    "plt.figure(figsize=(8, 6))\n",
    "plt.pie(complain_customers['percentage'], labels=complain_customers['Card Type'], autopct='%1.1f%%', startangle=140)\n",
    "plt.title('Percentage of Credit Card Types for Customers Who Have Filed a complain')\n",
    "plt.axis('equal') \n",
    "\n",
    "plt.show()"
   ]
  },
  {
   "cell_type": "markdown",
   "metadata": {},
   "source": [
    "The pie chart provides the distribution of card types among customers who have filed a complain. It shows that there is a relatively balanced distribution of card types among customers who have filed complains, with no single card type dominating the distribution."
   ]
  },
  {
   "cell_type": "markdown",
   "metadata": {},
   "source": [
    "## 6. Are customers who filed complains more likely to exit the bank?"
   ]
  },
  {
   "cell_type": "code",
   "execution_count": null,
   "metadata": {},
   "outputs": [
    {
     "data": {
      "text/html": [
       "<div>\n",
       "<style scoped>\n",
       "    .dataframe tbody tr th:only-of-type {\n",
       "        vertical-align: middle;\n",
       "    }\n",
       "\n",
       "    .dataframe tbody tr th {\n",
       "        vertical-align: top;\n",
       "    }\n",
       "\n",
       "    .dataframe thead th {\n",
       "        text-align: right;\n",
       "    }\n",
       "</style>\n",
       "<table border=\"1\" class=\"dataframe\">\n",
       "  <thead>\n",
       "    <tr style=\"text-align: right;\">\n",
       "      <th></th>\n",
       "      <th>Exited</th>\n",
       "      <th>percentage</th>\n",
       "    </tr>\n",
       "  </thead>\n",
       "  <tbody>\n",
       "    <tr>\n",
       "      <th>0</th>\n",
       "      <td>Yes</td>\n",
       "      <td>99.510763</td>\n",
       "    </tr>\n",
       "    <tr>\n",
       "      <th>1</th>\n",
       "      <td>No</td>\n",
       "      <td>0.489237</td>\n",
       "    </tr>\n",
       "  </tbody>\n",
       "</table>\n",
       "</div>"
      ],
      "text/plain": [
       "  Exited  percentage\n",
       "0    Yes   99.510763\n",
       "1     No    0.489237"
      ]
     },
     "execution_count": 23,
     "metadata": {},
     "output_type": "execute_result"
    }
   ],
   "source": [
    "# calculate percentage \n",
    "complains_exited = df[df['Complain'] == 'Yes'].value_counts('Exited').pipe(calculate_percentage).reset_index(name = 'percentage')\n",
    "complains_exited "
   ]
  },
  {
   "cell_type": "code",
   "execution_count": null,
   "metadata": {},
   "outputs": [
    {
     "data": {
      "image/png": "[encoded data removed]",
      "text/plain": [
       "<Figure size 800x600 with 1 Axes>"
      ]
     },
     "metadata": {},
     "output_type": "display_data"
    }
   ],
   "source": [
    "# Create pychart using matplotlib\n",
    "plt.figure(figsize=(8, 6))\n",
    "plt.pie(complains_exited['percentage'], labels=complains_exited['Exited'], autopct='%1.1f%%', startangle=140)\n",
    "plt.title('Percentage of Complained Customer Who Exited')\n",
    "plt.axis('equal') \n",
    "\n",
    "plt.show()"
   ]
  },
  {
   "cell_type": "markdown",
   "metadata": {},
   "source": [
    "Based on the pie chart, the majority of customers who filed a complain have exited the bank, indicating a high of churn or attrition among customers who express dissatisfaction through complains."
   ]
  },
  {
   "cell_type": "markdown",
   "metadata": {},
   "source": [
    "## 7. Does customer satisfaction score correlate with the possibility of filing a complain?"
   ]
  },
  {
   "cell_type": "markdown",
   "metadata": {},
   "source": [
    "To do this correlation test, first we are going to set the hypothesis null and the alternative:\n",
    "\n",
    "**`H0`** : There is no correlation between customer satisfaction score and the possibility of filing a complain. <br>\n",
    "**`H1`** : There is a correlation between customer satisfaction score and the possibility of filing a complain.\n",
    "\n",
    "In this analysis, since both columns of interest are categorical, we will employ the Chi-Square test."
   ]
  },
  {
   "cell_type": "code",
   "execution_count": null,
   "metadata": {},
   "outputs": [
    {
     "name": "stdout",
     "output_type": "stream",
     "text": [
      "P-value: 0.5559756516610992\n"
     ]
    }
   ],
   "source": [
    "# create observation table \n",
    "contingency_table = pd.crosstab(df['Satisfaction Score'],df['Complain'])\n",
    "\n",
    "# perform chi square test\n",
    "res = stats.chi2_contingency(contingency_table)\n",
    "\n",
    "print(\"P-value:\", res.pvalue)"
   ]
  },
  {
   "cell_type": "markdown",
   "metadata": {},
   "source": [
    "**P-value**: 0.5559756516610992\n",
    "\n",
    "Since the p-value is greater than 0.05, we fail to reject the null hypothesis.\n",
    "\n",
    "There is no chance that satisfaction score having relation to the possibility of filling complain."
   ]
  },
  {
   "cell_type": "markdown",
   "metadata": {},
   "source": [
    "## 8. Does Salary correlate with number of product own by customer?"
   ]
  },
  {
   "cell_type": "markdown",
   "metadata": {},
   "source": [
    "This question being asked to help the marketing team build better marketing strategy. Here is the hypothesis: <br>\n",
    "**`H0`** : There is no correlation between customer's salary and the number of product. <br>\n",
    "**`H1`** : There is a correlation between customer's salary and the number of product.\n",
    "\n",
    "In this analysis, we'll use ANOVA. Because we're going to compare means between more than 2 groups."
   ]
  },
  {
   "cell_type": "code",
   "execution_count": null,
   "metadata": {},
   "outputs": [
    {
     "name": "stdout",
     "output_type": "stream",
     "text": [
      "P-value: 0.46206337047894386\n"
     ]
    }
   ],
   "source": [
    "# groupiong the data\n",
    "groups = []\n",
    "for num_products, group_df in df.groupby('NumOfProducts'):\n",
    "    groups.append(group_df['EstimatedSalary'])\n",
    "    \n",
    "\n",
    "res = stats.f_oneway(*groups)\n",
    "\n",
    "print(\"P-value:\", res.pvalue)"
   ]
  },
  {
   "cell_type": "markdown",
   "metadata": {},
   "source": [
    "**P-Value**: 0.46206337047894386\n",
    "\n",
    "Since the p-value is greater than 0.05, we fail to reject the null hypothesis.\n",
    "\n",
    "There is no chance that customer's salary having correlation with number of products."
   ]
  },
  {
   "cell_type": "markdown",
   "metadata": {},
   "source": [
    "# G. Conclusion\n",
    "\n",
    "After doing the analysis we can see that the average customer satisfaction is 3, this indicates that there are so many things need to be done to restore the banks branding and services. \n",
    "There is a trend that show customers more 40 years old is likely to exited from the banks, and female customers have a higher proportion of customers who have exited the bank approximately 11.4% of total customer while male customer is only 9% of total customer. \n",
    "\n",
    "Both groups of active and inactive customer have a high proportion of customers with credit cards, with a slightly higher percentage observed among non-active customers. There are approximately 71.1% of inactive customer who has credit card.\n",
    "\n",
    "There is a relative balanced distribution of card types among customer who have filled complains, and there's no single card type dominating the distribution.\n",
    "\n",
    "Apparently a high percentage of complained customer who exited is high up to 99.5%, this number is indicating a high churn or attrition among customers who express dissatisfaction through complains. To test if there is a correlation between customer satisfaction and possibility of filling complain, we do a Chi-Square test and get result p-value is higher that the critical value, which means there's no correlation between satisfaction score and complain.\n",
    "\n",
    "To build a better marketing strategy another test is run to see if there is a correlation between customer's estimated salary and number of products they hold, this test use ANOVA technique and get the result p-value is higher than critical value, so there is no correlation between customer's salary and number of products they hold."
   ]
  },
  {
   "cell_type": "markdown",
   "metadata": {},
   "source": [
    "# H. Recommendation\n",
    "1. **Enhance Customer Satisfaction**\n",
    "This could be done by improving overall services to customer, especially if they are filling complain. Use customer's complain as feedback to improve a service to be customer oriented.\n",
    "2. **Address Complain Resolution**\n",
    "Implement proactive complain resolution mechanisms, streamline processes for addressing customer grievances, and prioritize swift and effective resolution to mitigate churn and salvage customer relationships.\n",
    "3. **Optimize Credit Card Usage Among Customer**\n",
    "Create a campaign to encourage customer use their credit card more often, focusing on benefits, rewards, and personal offer especially to inactive customers.\n",
    "4. **Align Product Offering with Customer Segmentation**\n",
    "By customizing the product offer to be more personal to customer, also offer product and service based on their financial capabilities and preferences.\n",
    "5. **Continuously Measure and Refine Strategy**\n",
    "Monitor and evaluate marketing strategy and the impact on KPI. Track customer satisfactions, revenue and product sold, this would allow agile adjustments for optimizing marketing initiatives over time."
   ]
  }
 ],
 "metadata": {
  "kernelspec": {
   "display_name": "hck016",
   "language": "python",
   "name": "python3"
  },
  "language_info": {
   "codemirror_mode": {
    "name": "ipython",
    "version": 3
   },
   "file_extension": ".py",
   "mimetype": "text/x-python",
   "name": "python",
   "nbconvert_exporter": "python",
   "pygments_lexer": "ipython3",
   "version": "3.11.7"
  }
 },
 "nbformat": 4,
 "nbformat_minor": 2
}
